{
 "cells": [
  {
   "cell_type": "markdown",
   "id": "791d3bae",
   "metadata": {},
   "source": [
    "# **Sentiment Analysis on Social Media Text Using Machine Learning**\n",
    "\n",
    "## **Introduction**\n",
    "Social media platforms generate vast amounts of textual data daily, reflecting user opinions, sentiments, and reactions. Sentiment analysis, or opinion mining, aims to determine the emotional tone behind a body of text. This project focuses on performing sentiment analysis on Twitter data to classify tweets as **Positive** or **Negative**. By leveraging machine learning and deep learning techniques, the goal is to build a model that accurately predicts the sentiment of a given tweet.\n",
    "\n",
    "The dataset used for this project is the **Sentiment140** dataset, which contains pre-labeled tweets. It is a widely used dataset for sentiment analysis and is particularly suitable due to its balanced distribution of positive and negative sentiments.\n",
    "\n",
    "---\n",
    "\n",
    "## **Project Goal**\n",
    "The primary objectives of this project are:\n",
    "1. To preprocess and clean the textual data for effective feature extraction and model building.\n",
    "2. To explore different feature extraction techniques:\n",
    "   - Bag-of-Words\n",
    "   - TF-IDF\n",
    "   - BERT Embeddings\n",
    "3. To train and evaluate machine learning model- Support Vector Machines (SVM)\n",
    "4. To visualize the performance and provide an interpretation of the results.\n",
    "\n",
    "---\n",
    "\n",
    "## **Dataset**\n",
    "The dataset used for this project is available on Kaggle. It contains 1.6 million tweets, each labeled with either positive or negative sentiment.\n",
    "\n",
    "**Dataset Link:** [Sentiment140 Dataset](https://www.kaggle.com/datasets/kazanova/sentiment140)\n",
    "\n",
    "---\n",
    "\n",
    "## **Structure of the Project**\n",
    "1. Data Loading and Exploration\n",
    "2. Data Cleaning and Preprocessing\n",
    "3. Feature Extraction\n",
    "4. Model Training and Evaluation\n",
    "5. Result Visualization and Interpretation\n",
    "6. Conclusion and Future Work\n"
   ]
  },
  {
   "cell_type": "markdown",
   "id": "460d608b",
   "metadata": {},
   "source": [
    "## **Dataset Loading and Stratified Sampling**"
   ]
  },
  {
   "cell_type": "code",
   "execution_count": 2,
   "id": "6de817c8-e66f-4a54-935f-2b5444b25bba",
   "metadata": {},
   "outputs": [
    {
     "name": "stderr",
     "output_type": "stream",
     "text": [
      "c:\\Users\\Owner\\Desktop\\Machine Learning Programming\\Final Project\\venv\\Lib\\site-packages\\tqdm\\auto.py:21: TqdmWarning: IProgress not found. Please update jupyter and ipywidgets. See https://ipywidgets.readthedocs.io/en/stable/user_install.html\n",
      "  from .autonotebook import tqdm as notebook_tqdm\n"
     ]
    }
   ],
   "source": [
    "import os\n",
    "import pandas as pd\n",
    "import numpy as np\n",
    "import re\n",
    "import nltk\n",
    "from nltk.corpus import stopwords\n",
    "from nltk.stem import WordNetLemmatizer\n",
    "from sklearn.feature_extraction.text import CountVectorizer, TfidfVectorizer\n",
    "from sklearn.model_selection import train_test_split\n",
    "from transformers import DistilBertTokenizer, DistilBertModel\n",
    "import torch"
   ]
  },
  {
   "cell_type": "code",
   "execution_count": 3,
   "id": "85058a66-2248-40d4-9f83-3f7dd1b9b8a6",
   "metadata": {},
   "outputs": [],
   "source": [
    "cwd = os.getcwd()\n",
    "file_name = \"\\\\data.csv\"\n",
    "file_path = cwd + file_name"
   ]
  },
  {
   "cell_type": "code",
   "execution_count": 4,
   "id": "39a37fef-1985-44c5-8042-e931ab04a000",
   "metadata": {},
   "outputs": [],
   "source": [
    "columns = ['target', 'id', 'date', 'flag', 'user', 'text']\n",
    "df = pd.read_csv(file_path, encoding='ISO-8859-1', header=None, names=columns)"
   ]
  },
  {
   "cell_type": "code",
   "execution_count": 5,
   "id": "6245e847-7fcc-4594-b329-83d4d99fc05c",
   "metadata": {},
   "outputs": [
    {
     "data": {
      "text/plain": [
       "(1600000, 6)"
      ]
     },
     "execution_count": 5,
     "metadata": {},
     "output_type": "execute_result"
    }
   ],
   "source": [
    "df.shape"
   ]
  },
  {
   "cell_type": "code",
   "execution_count": 6,
   "id": "fd4a1f0f-4235-43fd-80f5-710e467ab823",
   "metadata": {},
   "outputs": [
    {
     "name": "stdout",
     "output_type": "stream",
     "text": [
      "<class 'pandas.core.frame.DataFrame'>\n",
      "RangeIndex: 1600000 entries, 0 to 1599999\n",
      "Data columns (total 6 columns):\n",
      " #   Column  Non-Null Count    Dtype \n",
      "---  ------  --------------    ----- \n",
      " 0   target  1600000 non-null  int64 \n",
      " 1   id      1600000 non-null  int64 \n",
      " 2   date    1600000 non-null  object\n",
      " 3   flag    1600000 non-null  object\n",
      " 4   user    1600000 non-null  object\n",
      " 5   text    1600000 non-null  object\n",
      "dtypes: int64(2), object(4)\n",
      "memory usage: 73.2+ MB\n"
     ]
    }
   ],
   "source": [
    "df.info()"
   ]
  },
  {
   "cell_type": "code",
   "execution_count": 12,
   "id": "6cbe8b03-7d55-4bd6-a064-9ca1d30233e1",
   "metadata": {},
   "outputs": [
    {
     "data": {
      "text/html": [
       "<div>\n",
       "<style scoped>\n",
       "    .dataframe tbody tr th:only-of-type {\n",
       "        vertical-align: middle;\n",
       "    }\n",
       "\n",
       "    .dataframe tbody tr th {\n",
       "        vertical-align: top;\n",
       "    }\n",
       "\n",
       "    .dataframe thead th {\n",
       "        text-align: right;\n",
       "    }\n",
       "</style>\n",
       "<table border=\"1\" class=\"dataframe\">\n",
       "  <thead>\n",
       "    <tr style=\"text-align: right;\">\n",
       "      <th></th>\n",
       "      <th>target</th>\n",
       "      <th>id</th>\n",
       "    </tr>\n",
       "  </thead>\n",
       "  <tbody>\n",
       "    <tr>\n",
       "      <th>count</th>\n",
       "      <td>1.600000e+06</td>\n",
       "      <td>1.600000e+06</td>\n",
       "    </tr>\n",
       "    <tr>\n",
       "      <th>mean</th>\n",
       "      <td>2.000000e+00</td>\n",
       "      <td>1.998818e+09</td>\n",
       "    </tr>\n",
       "    <tr>\n",
       "      <th>std</th>\n",
       "      <td>2.000001e+00</td>\n",
       "      <td>1.935761e+08</td>\n",
       "    </tr>\n",
       "    <tr>\n",
       "      <th>min</th>\n",
       "      <td>0.000000e+00</td>\n",
       "      <td>1.467810e+09</td>\n",
       "    </tr>\n",
       "    <tr>\n",
       "      <th>25%</th>\n",
       "      <td>0.000000e+00</td>\n",
       "      <td>1.956916e+09</td>\n",
       "    </tr>\n",
       "    <tr>\n",
       "      <th>50%</th>\n",
       "      <td>2.000000e+00</td>\n",
       "      <td>2.002102e+09</td>\n",
       "    </tr>\n",
       "    <tr>\n",
       "      <th>75%</th>\n",
       "      <td>4.000000e+00</td>\n",
       "      <td>2.177059e+09</td>\n",
       "    </tr>\n",
       "    <tr>\n",
       "      <th>max</th>\n",
       "      <td>4.000000e+00</td>\n",
       "      <td>2.329206e+09</td>\n",
       "    </tr>\n",
       "  </tbody>\n",
       "</table>\n",
       "</div>"
      ],
      "text/plain": [
       "             target            id\n",
       "count  1.600000e+06  1.600000e+06\n",
       "mean   2.000000e+00  1.998818e+09\n",
       "std    2.000001e+00  1.935761e+08\n",
       "min    0.000000e+00  1.467810e+09\n",
       "25%    0.000000e+00  1.956916e+09\n",
       "50%    2.000000e+00  2.002102e+09\n",
       "75%    4.000000e+00  2.177059e+09\n",
       "max    4.000000e+00  2.329206e+09"
      ]
     },
     "execution_count": 12,
     "metadata": {},
     "output_type": "execute_result"
    }
   ],
   "source": [
    "df.describe()"
   ]
  },
  {
   "cell_type": "code",
   "execution_count": 7,
   "id": "82547e42-7cb9-4ddd-94e8-52f9931ee477",
   "metadata": {},
   "outputs": [
    {
     "data": {
      "text/plain": [
       "target\n",
       "0    800000\n",
       "4    800000\n",
       "Name: count, dtype: int64"
      ]
     },
     "execution_count": 7,
     "metadata": {},
     "output_type": "execute_result"
    }
   ],
   "source": [
    "data_distribution = df['target'].value_counts()\n",
    "data_distribution"
   ]
  },
  {
   "cell_type": "code",
   "execution_count": null,
   "id": "0c1d49da",
   "metadata": {},
   "outputs": [
    {
     "name": "stdout",
     "output_type": "stream",
     "text": [
      "Original Distribution:\n",
      " target\n",
      "0    0.5\n",
      "4    0.5\n",
      "Name: proportion, dtype: float64\n",
      "Sampled Distribution:\n",
      " target\n",
      "4    0.5\n",
      "0    0.5\n",
      "Name: proportion, dtype: float64\n"
     ]
    }
   ],
   "source": [
    "# Stratified Sampling\n",
    "sample_size = 100000  # Adjust sample size as needed\n",
    "df_sampled, _ = train_test_split(\n",
    "    df, \n",
    "    train_size=sample_size, \n",
    "    stratify=df['target'],  # Maintain proportional class distribution\n",
    "    random_state=42\n",
    ")\n",
    "\n",
    "# Verify the distribution of the sampled data\n",
    "print(\"Original Distribution:\\n\", df['target'].value_counts(normalize=True))\n",
    "print(\"Sampled Distribution:\\n\", df_sampled['target'].value_counts(normalize=True))"
   ]
  },
  {
   "cell_type": "code",
   "execution_count": null,
   "id": "9695d4fc-7080-46cd-be7d-162b1c8505ea",
   "metadata": {},
   "outputs": [
    {
     "name": "stderr",
     "output_type": "stream",
     "text": [
      "C:\\Users\\Owner\\AppData\\Local\\Temp\\ipykernel_18948\\909980308.py:3: SettingWithCopyWarning: \n",
      "A value is trying to be set on a copy of a slice from a DataFrame.\n",
      "Try using .loc[row_indexer,col_indexer] = value instead\n",
      "\n",
      "See the caveats in the documentation: https://pandas.pydata.org/pandas-docs/stable/user_guide/indexing.html#returning-a-view-versus-a-copy\n",
      "  df_cleaned['sentiment'] = df_cleaned['target'].replace({0: 'Negative', 4: 'Positive'})\n"
     ]
    },
    {
     "data": {
      "text/plain": [
       "sentiment\n",
       "Positive    50000\n",
       "Negative    50000\n",
       "Name: count, dtype: int64"
      ]
     },
     "execution_count": 25,
     "metadata": {},
     "output_type": "execute_result"
    }
   ],
   "source": [
    "# Retain only relevant columns\n",
    "df_cleaned = df_sampled[['target', 'text']]\n",
    "df_cleaned['sentiment'] = df_cleaned['target'].replace({0: 'Negative', 4: 'Positive'})\n",
    "df_cleaned = df_cleaned.drop(columns=['target'])\n",
    "\n",
    "# Display a sample of the cleaned data and its distribution\n",
    "cleaned_sample       = df_cleaned.head()\n",
    "cleaned_distribution = df_cleaned['sentiment'].value_counts()\n",
    "\n",
    "cleaned_distribution"
   ]
  },
  {
   "cell_type": "markdown",
   "id": "26ec17e8",
   "metadata": {},
   "source": [
    "### **Overview**\n",
    "In this step, we loaded the dataset, explored its structure, and performed stratified sampling to create a balanced subset for analysis. The original dataset is significantly large, with 1.6 million entries, making it computationally expensive for model training and evaluation. To address this, a stratified sampling technique was employed.\n",
    "\n",
    "---\n",
    "\n",
    "### **Steps:**\n",
    "\n",
    "1. **Load Dataset:**\n",
    "   - The dataset was loaded using `pandas.read_csv` with the following details:\n",
    "     - The dataset contains **6 columns**: `target`, `id`, `date`, `flag`, `user`, and `text`.\n",
    "     - The `target` column represents sentiment labels, where:\n",
    "       - `0` indicates **Negative sentiment**.\n",
    "       - `4` indicates **Positive sentiment**.\n",
    "   - Total Entries: **1,600,000**\n",
    "   - Memory Usage: **73.2+ MB**\n",
    "\n",
    "2. **Dataset Exploration:**\n",
    "   - **Descriptive Statistics:** The dataset was analyzed to understand its numerical distribution, including the target labels' mean, standard deviation, minimum, and maximum values.\n",
    "   - **Class Distribution:**\n",
    "     - Negative Sentiments: **800,000 (50%)**\n",
    "     - Positive Sentiments: **800,000 (50%)**\n",
    "   - This indicates a balanced dataset, which is ideal for model training.\n",
    "\n",
    "3. **Stratified Sampling:**\n",
    "   - Due to the large dataset size, **stratified sampling** was performed to select a subset of **100,000 entries**.\n",
    "   - Stratified sampling ensures that the proportion of **Positive (50%)** and **Negative (50%)** labels is maintained in the sampled data, preserving the original distribution of classes.\n",
    "   - **Rationale:** This technique is particularly useful when working with balanced datasets and ensures that no class is underrepresented in the subset.\n",
    "\n",
    "4. **Retaining Relevant Columns:**\n",
    "   - Only the **`target`** and **`text`** columns were retained for analysis.\n",
    "   - The `target` column was mapped to sentiment labels (`Negative` and `Positive`) for better interpretability.\n",
    "   - Final Distribution in the Cleaned Data:\n",
    "     - **Negative Sentiments:** **50,000**\n",
    "     - **Positive Sentiments:** **50,000**\n",
    "\n",
    "---\n",
    "\n",
    "### **Conclusion**\n",
    "Stratified sampling allowed us to create a manageable subset of data while retaining the original class balance. This ensures that the insights derived from the subset are representative of the full dataset, enabling efficient and reliable model training and evaluation without excessive computational overhead."
   ]
  },
  {
   "cell_type": "markdown",
   "id": "65b49320",
   "metadata": {},
   "source": [
    "## **Data Preprocessing**"
   ]
  },
  {
   "cell_type": "markdown",
   "id": "0d4bf4b0",
   "metadata": {},
   "source": [
    "## **Outlier Detection Using IQR**"
   ]
  },
  {
   "cell_type": "code",
   "execution_count": null,
   "id": "d688bc7e",
   "metadata": {},
   "outputs": [
    {
     "name": "stdout",
     "output_type": "stream",
     "text": [
      "Numerical Columns: Index([], dtype='object')\n"
     ]
    }
   ],
   "source": [
    "import pandas as pd\n",
    "import numpy as np\n",
    "\n",
    "# Select numerical columns\n",
    "numerical_columns = df_cleaned.select_dtypes(include=[np.number]).columns\n",
    "print(\"Numerical Columns:\", numerical_columns)\n",
    "\n",
    "# Identify Outliers using IQR\n",
    "outliers = {}\n",
    "for column in numerical_columns:\n",
    "    Q1 = df_cleaned[column].quantile(0.25)  # First Quartile\n",
    "    Q3 = df_cleaned[column].quantile(0.75)  # Third Quartile\n",
    "    IQR = Q3 - Q1  # Interquartile Range\n",
    "    lower_bound = Q1 - 1.5 * IQR\n",
    "    upper_bound = Q3 + 1.5 * IQR\n",
    "    \n",
    "    # Find rows with outliers\n",
    "    outliers[column] = df_cleaned[(df_cleaned[column] < lower_bound) | (df_cleaned[column] > upper_bound)]\n",
    "    \n",
    "    print(f\"\\nOutliers in {column}:\")\n",
    "    print(outliers[column])\n",
    "\n",
    "# Summary of Outliers\n",
    "for column in numerical_columns:\n",
    "    print(f\"Total Outliers in {column}: {len(outliers[column])}\")\n"
   ]
  },
  {
   "cell_type": "markdown",
   "id": "97d2708a",
   "metadata": {},
   "source": [
    "- For each numerical column, the total number of outliers was computed.\n",
    "- **Output:**\n",
    "    - As no numerical columns exist, the count of outliers in each column is `0`."
   ]
  },
  {
   "cell_type": "code",
   "execution_count": 42,
   "id": "e35acf02",
   "metadata": {},
   "outputs": [
    {
     "name": "stdout",
     "output_type": "stream",
     "text": [
      "Number of text outliers: 46\n",
      "                                              cleaned_text  text_length\n",
      "485109   low carb day low energy day preparing applicat...          123\n",
      "1485448  watching quotjonasquot fell love pizzaaaa girl...          117\n",
      "1497655  brooke quotfrustratedquot quotpissyquot quotgr...          173\n",
      "1008390  quotonline stuffquot including wp hosting amp ...          119\n",
      "1403289  good morning twitter set list promotion street...          116\n",
      "1436203  feel claudia cazacus free falling feat audrey ...          116\n",
      "662465   wow really disappointing response dog blog rad...          123\n",
      "57917    bad di film order phoenix gak dikasih adegan h...          117\n",
      "19390    mnutup midbreak dgn mbelanjakan gaji ptama bla...          128\n",
      "523543   first time ever iphone crashed itunes time row...          116\n",
      "862941   khong share duoc dau phat hien quan yen tinh k...          117\n",
      "1466515  th tweet tweet tweet tweet tweet tweet tweet t...          128\n",
      "1068911  pizzavanilla shakeandy capp hot friescream sod...          116\n",
      "1510632  another great day sf city church famous brett ...          117\n",
      "297341   please god bless family air france tripulation...          123\n",
      "1172895  beautiful wedding shot n sunny brentwood yeste...          119\n",
      "862440   got nuclear reactor brain chalk teeth amp ever...          125\n",
      "1333234  biofairtradecollectivist coffeeenergy consumpt...          125\n",
      "1071891  lyric biggie song quotjuicyquot another quote ...          117\n",
      "1382873  excursion carol ber sabr collin chiewyan amp e...          116\n",
      "1207725  funny moment lifeonce lady room girl rush towa...          121\n",
      "843198   music song singing playing running writing pra...          129\n",
      "1208783  saptamana excelenta weekend vicky cristina bar...          120\n",
      "1439459  anyone plan attending charity ride tomorrow su...          118\n",
      "275587   sound like complete electrical failurepossible...          116\n",
      "1469558  local police department advertising service qu...          118\n",
      "930849   finished registering sw today fun design lotso...          127\n",
      "180681   listen music quotsupreme court amp feindflugse...          118\n",
      "832712   thanks man gonna implement logins soon saving ...          118\n",
      "319683   uup nekam na viditelne misto si musim napsat q...          119\n",
      "510209   xbox live offline fucking hour ahhhhhhhhhhhhhh...          124\n",
      "470656   quotexams sound like new way torture childquot...          121\n",
      "1086959  ur duuuuuuuude im pissing people blog left rig...          119\n",
      "1572052  quotjangan sedihquot new quotsecaraquotgt cthn...          130\n",
      "399765   wipe le two activated hardmode amp promptly di...          118\n",
      "1417846  lb free weight ampamp new styling gel ampamp m...          127\n",
      "1573231  wonder people convert quotsportquot quotcorpor...          123\n",
      "279      whinging clientampboss dont understand english...          118\n",
      "393264   slap dem girl trickn guy wit fake booty n wurn...          119\n",
      "1511280  oops im tired even type correctly guess im pro...          120\n",
      "390607   okay today im really bored didnt enter twitter...          122\n",
      "218076   lookin gerald ugly faceeatin un sweet pinapple...          117\n",
      "53234    new indie movie coming quotordinaryquot woman ...          117\n",
      "747954   jim quoti negate destruction jammerquot dave q...          135\n",
      "1279473  midnitenightlipglosspop cultureshockmag staff ...          125\n",
      "325758   foot r aching tired bak rm wrk ah wel jus set ...          118\n"
     ]
    }
   ],
   "source": [
    "# Calculate text lengths\n",
    "df_cleaned['text_length'] = df_cleaned['cleaned_text'].apply(len)\n",
    "\n",
    "# IQR Method on Text Length\n",
    "Q1 = df_cleaned['text_length'].quantile(0.25)\n",
    "Q3 = df_cleaned['text_length'].quantile(0.75)\n",
    "IQR = Q3 - Q1\n",
    "\n",
    "lower_bound = Q1 - 1.5 * IQR\n",
    "upper_bound = Q3 + 1.5 * IQR\n",
    "\n",
    "# Detect outliers\n",
    "text_outliers = df_cleaned[(df_cleaned['text_length'] < lower_bound) | (df_cleaned['text_length'] > upper_bound)]\n",
    "print(f\"Number of text outliers: {len(text_outliers)}\")\n",
    "print(text_outliers[['cleaned_text', 'text_length']])\n"
   ]
  },
  {
   "cell_type": "markdown",
   "id": "258d0f19",
   "metadata": {},
   "source": [
    "## **Outlier Detection on Text Length**\n",
    "\n",
    "In this step, we analyzed the length of the cleaned text data to identify potential outliers based on text length using the **Interquartile Range (IQR) Method**. Outliers in text length can indicate unusual entries, such as extremely short or excessively long texts, which may have the potential to impact the performance of machine learning models.\n",
    "\n",
    "### **Process**\n",
    "1. **Calculate Text Lengths:**\n",
    "   - A new column `text_length` was created to store the length of each cleaned text entry using the `len()` function.\n",
    "\n",
    "2. **Compute IQR:**\n",
    "   - **Q1 (First Quartile):** The value below which 25% of the data lies.\n",
    "   - **Q3 (Third Quartile):** The value below which 75% of the data lies.\n",
    "   - **IQR (Interquartile Range):** Difference between Q3 and Q1.\n",
    "\n",
    "3. **Define Outlier Boundaries:**\n",
    "   - **Lower Bound:** `Q1 - 1.5 * IQR`\n",
    "   - **Upper Bound:** `Q3 + 1.5 * IQR`\n",
    "\n",
    "4. **Detect Outliers:**\n",
    "   - Identified text entries with lengths outside the range of the lower and upper bounds.\n",
    "\n",
    "### **Results**\n",
    "- **Number of Text Outliers Identified:** 46\n",
    "- The detected outliers include text entries with unusually high or low text lengths compared to the majority of the data.\n",
    "- Example entries from the outliers:\n",
    "    - **Example 1:** \"low carb day low energy day preparing application...\", Length: 123\n",
    "    - **Example 2:** \"watching 'jonas' fell in love with pizzaaaa...\", Length: 117\n",
    "    - **Example 3:** \"brooke 'frustrated', 'pissy', 'grateful'...\", Length: 173\n",
    "\n",
    "### **Conclusion**\n",
    "- The outliers in text length were observed to be relatively small in number (46 entries out of 100,000). Given their small proportion, these outliers were not removed or handled differently as they are unlikely to significantly affect the overall model performance.\n",
    "- Instead, these entries were retained in the dataset to preserve the diversity and variability in the text data, which may provide valuable insights during training and testing."
   ]
  },
  {
   "cell_type": "markdown",
   "id": "5aaee524",
   "metadata": {},
   "source": [
    "## **Text Preprocessing**"
   ]
  },
  {
   "cell_type": "code",
   "execution_count": 10,
   "id": "5777aefb-184d-4ec3-aa48-c694e1592d5f",
   "metadata": {},
   "outputs": [],
   "source": [
    "import re\n",
    "import nltk\n",
    "from nltk.corpus import stopwords\n",
    "from nltk.stem import WordNetLemmatizer\n",
    "from sklearn.feature_extraction.text import CountVectorizer, TfidfVectorizer"
   ]
  },
  {
   "cell_type": "code",
   "execution_count": null,
   "id": "4ba45413-fed7-4793-a823-82a2d7dc6893",
   "metadata": {},
   "outputs": [
    {
     "name": "stderr",
     "output_type": "stream",
     "text": [
      "[nltk_data] Downloading package stopwords to\n",
      "[nltk_data]     C:\\Users\\Owner\\AppData\\Roaming\\nltk_data...\n",
      "[nltk_data]   Package stopwords is already up-to-date!\n",
      "[nltk_data] Downloading package wordnet to\n",
      "[nltk_data]     C:\\Users\\Owner\\AppData\\Roaming\\nltk_data...\n",
      "[nltk_data]   Package wordnet is already up-to-date!\n",
      "[nltk_data] Downloading package omw-1.4 to\n",
      "[nltk_data]     C:\\Users\\Owner\\AppData\\Roaming\\nltk_data...\n",
      "[nltk_data]   Package omw-1.4 is already up-to-date!\n"
     ]
    }
   ],
   "source": [
    "# Preprocessing\n",
    "nltk.download('stopwords')\n",
    "nltk.download('wordnet')\n",
    "nltk.download('omw-1.4')\n",
    "\n",
    "lemmatizer = WordNetLemmatizer()\n",
    "stop_words = set(stopwords.words('english'))\n",
    "\n",
    "def preprocess_text(text):\n",
    "    # Remove URLs\n",
    "    text = re.sub(r'http\\S+|www\\.\\S+', '', text)\n",
    "    # Remove mentions and hashtags\n",
    "    text = re.sub(r'@[A-Za-z0-9_]+|#[A-Za-z0-9_]+', '', text)\n",
    "    # Remove special characters and numbers\n",
    "    text = re.sub(r'[^a-zA-Z\\s]', '', text)\n",
    "    # Convert to lowercase\n",
    "    text = text.lower()\n",
    "    # Tokenize and remove stopwords\n",
    "    tokens = text.split()\n",
    "    tokens = [word for word in tokens if word not in stop_words]\n",
    "    # Lemmatize tokens\n",
    "    tokens = [lemmatizer.lemmatize(word) for word in tokens]\n",
    "    return ' '.join(tokens)\n",
    "\n",
    "# Apply preprocessing\n",
    "df_cleaned['cleaned_text'] = df_cleaned['text'].apply(preprocess_text)"
   ]
  },
  {
   "cell_type": "markdown",
   "id": "aca357b3",
   "metadata": {},
   "source": [
    "## Text Preprocessing\n",
    "\n",
    "### Purpose:\n",
    "Text preprocessing is a critical step in Natural Language Processing (NLP) to clean and prepare raw text data for analysis. This step ensures that the textual data is structured, noise-free, and ready for feature extraction and model training.\n",
    "\n",
    "### Steps Performed:\n",
    "1. **Download NLTK Resources**:\n",
    "   - `stopwords`: A predefined list of common stopwords (e.g., \"and\", \"the\") to remove irrelevant words.\n",
    "   - `wordnet` and `omw-1.4`: Resources for lemmatization, which reduces words to their base or root form.\n",
    "\n",
    "2. **Preprocessing Function**:\n",
    "   - **Remove URLs**: Identifies and removes web links from the text.\n",
    "   - **Remove Mentions and Hashtags**: Deletes user mentions (e.g., `@username`) and hashtags (e.g., `#topic`).\n",
    "   - **Remove Special Characters and Numbers**: Retains only alphabetical characters.\n",
    "   - **Convert to Lowercase**: Ensures uniformity by converting all text to lowercase.\n",
    "   - **Tokenization and Stopword Removal**: Splits the text into tokens (words) and removes common stopwords.\n",
    "   - **Lemmatization**: Converts words to their base form using a lemmatizer.\n",
    "\n",
    "3. **Apply Preprocessing**:\n",
    "   The preprocessing function is applied to the raw `text` column of the dataset to create a new column `cleaned_text`."
   ]
  },
  {
   "cell_type": "markdown",
   "id": "e41f8271",
   "metadata": {},
   "source": [
    "## **Feature Extraction**"
   ]
  },
  {
   "cell_type": "code",
   "execution_count": null,
   "id": "832ae9c9-16b1-40ee-b877-7af213004884",
   "metadata": {},
   "outputs": [
    {
     "name": "stdout",
     "output_type": "stream",
     "text": [
      "Bag-of-Words Shape: (100000, 59607)\n",
      "TF-IDF Shape: (100000, 59607)\n",
      "BERT Shape: (100000, 768)\n",
      "                                                      text  \\\n",
      "944617   &quot;Sticking feathers up your butt does not ...   \n",
      "1573608  @HennArtOnline I assumed it was for a cause. Y...   \n",
      "358042         Ohh fo' shizzo'! p.e. next monday, ooh joy    \n",
      "209544          I am not feelin this cloudy L.A. weather!    \n",
      "1309549  @planethealer make that 8-1 Griffey just homer...   \n",
      "\n",
      "                                              cleaned_text sentiment  \n",
      "944617   quotsticking feather butt make chickenquot chu...  Positive  \n",
      "1573608  assumed cause avatar usually treat green look ...  Positive  \n",
      "358042                ohh fo shizzo pe next monday ooh joy  Negative  \n",
      "209544                            feelin cloudy la weather  Negative  \n",
      "1309549  make griffey homered twitter great insomnia ca...  Positive  \n"
     ]
    }
   ],
   "source": [
    "# Bag-of-Words\n",
    "bow_vectorizer = CountVectorizer()\n",
    "bow_features = bow_vectorizer.fit_transform(df_cleaned['cleaned_text'])\n",
    "\n",
    "# TF-IDF\n",
    "tfidf_vectorizer = TfidfVectorizer()\n",
    "tfidf_features = tfidf_vectorizer.fit_transform(df_cleaned['cleaned_text'])\n",
    "\n",
    "# BERT Embeddings\n",
    "tokenizer = DistilBertTokenizer.from_pretrained('distilbert-base-uncased')\n",
    "model = DistilBertModel.from_pretrained('distilbert-base-uncased')\n",
    "device = torch.device('cuda' if torch.cuda.is_available() else 'cpu')\n",
    "model = model.to(device)\n",
    "\n",
    "def get_distilbert_embeddings(texts, batch_size=16, max_length=64):\n",
    "    embeddings = []\n",
    "    for i in range(0, len(texts), batch_size):\n",
    "        batch_texts = texts[i:i + batch_size]\n",
    "        # Tokenize and encode the batch\n",
    "        encoded_batch = tokenizer(\n",
    "            batch_texts.tolist(),\n",
    "            padding=True,\n",
    "            truncation=True,\n",
    "            return_tensors='pt',\n",
    "            max_length=max_length\n",
    "        )\n",
    "        # Move data to the same device as the model\n",
    "        encoded_batch = {key: val.to(device) for key, val in encoded_batch.items()}\n",
    "        # Generate embeddings for the batch\n",
    "        with torch.no_grad():\n",
    "            output = model(\n",
    "                input_ids=encoded_batch['input_ids'],\n",
    "                attention_mask=encoded_batch['attention_mask']\n",
    "            )\n",
    "            # Use mean of last hidden state as sentence embedding\n",
    "            batch_embeddings = output.last_hidden_state.mean(dim=1).cpu().numpy()\n",
    "            embeddings.append(batch_embeddings)\n",
    "    return np.concatenate(embeddings, axis=0)\n",
    "\n",
    "bert_features = get_distilbert_embeddings(df_cleaned['cleaned_text'], batch_size=16, max_length=64)\n",
    "\n",
    "# Convert sentiment labels to numeric\n",
    "df_cleaned['numeric_sentiment'] = df_cleaned['sentiment'].map({'Negative': 0, 'Positive': 1})\n",
    "\n",
    "# Step 5: Check Feature Shapes\n",
    "print(\"Bag-of-Words Shape:\", bow_features.shape)\n",
    "print(\"TF-IDF Shape:\", tfidf_features.shape)\n",
    "print(\"BERT Shape:\", bert_features.shape)\n",
    "\n",
    "# Step 6: Sample Output\n",
    "processed_sample = df_cleaned[['text', 'cleaned_text', 'sentiment']].head()\n",
    "print(processed_sample)"
   ]
  },
  {
   "cell_type": "markdown",
   "id": "7c68e2c3",
   "metadata": {},
   "source": [
    "## **Description**\n",
    "\n",
    "In this step, we applied three feature extraction techniques to transform the textual data into numerical representations suitable for machine learning models. Below are the details of the techniques used:\n",
    "\n",
    "### **1. Bag-of-Words**\n",
    "- A simple method that represents text as a collection of word frequencies without considering the context or order of words.\n",
    "- **Implementation:**\n",
    "    - Used `CountVectorizer` to convert the cleaned text data into numerical vectors.\n",
    "- **Feature Shape:**\n",
    "    - (100,000, 59,607) indicating 100,000 samples and 59,607 unique words in the vocabulary.\n",
    "\n",
    "### **2. TF-IDF (Term Frequency-Inverse Document Frequency)**\n",
    "- A more advanced technique that represents the importance of words by considering their frequency in a document relative to their frequency across the entire dataset.\n",
    "- **Implementation:**\n",
    "    - Used `TfidfVectorizer` to compute TF-IDF values for each word in the cleaned text data.\n",
    "- **Feature Shape:**\n",
    "    - (100,000, 59,607), same as Bag-of-Words, since it is based on the same vocabulary.\n",
    "\n",
    "### **3. BERT Embeddings**\n",
    "- A contextual word embedding technique that captures the semantic meaning and relationships between words in a sentence.\n",
    "- **Implementation:**\n",
    "    - Used the pre-trained `DistilBERT` model to generate embeddings for each text sample.\n",
    "    - The final embeddings were derived as the mean of the last hidden state of the model.\n",
    "    - Performed tokenization, padding, and truncation using `DistilBertTokenizer`.\n",
    "- **Feature Shape:**\n",
    "    - (100,000, 768) indicating 100,000 samples with 768-dimensional embeddings for each.\n",
    "\n",
    "### **Converted Sentiment Labels**\n",
    "- The sentiment labels were mapped to numerical values for model compatibility:\n",
    "    - **Negative Sentiment** → 0\n",
    "    - **Positive Sentiment** → 1\n",
    "\n",
    "### **Conclusion**\n",
    "These features (Bag-of-Words, TF-IDF, and BERT embeddings) will be used for training machine learning models to perform sentiment classification. Each technique has unique properties:\n",
    "- Bag-of-Words and TF-IDF provide sparse but interpretable features.\n",
    "- BERT embeddings offer dense, contextualized representations suitable for more advanced models.\n"
   ]
  },
  {
   "cell_type": "markdown",
   "id": "da9e5ad7",
   "metadata": {},
   "source": [
    "# SVM Model Training and Evaluation\n",
    "This section focuses on training and evaluating an **SVM model** using the following feature representations:\n",
    "1. **Bag-of-Words**\n",
    "2. **TF-IDF**\n",
    "3. **BERT Embeddings**\n"
   ]
  },
  {
   "cell_type": "markdown",
   "id": "a8c177ed",
   "metadata": {},
   "source": [
    "## SVM Training and Evaluation\n",
    "This function trains an SVM model for a given feature representation, evaluates its performance, and visualizes the confusion matrix.\n"
   ]
  },
  {
   "cell_type": "code",
   "execution_count": 20,
   "id": "134a37d1-571c-4f1a-89a4-1f81db05cf34",
   "metadata": {},
   "outputs": [],
   "source": [
    "from sklearn.svm import SVC\n",
    "from sklearn.model_selection import train_test_split\n",
    "from sklearn.metrics import classification_report, confusion_matrix, accuracy_score\n",
    "import matplotlib.pyplot as plt\n",
    "import seaborn as sns\n",
    "\n",
    "# Function to train and evaluate SVM\n",
    "def train_and_evaluate(X, y, representation_name):\n",
    "    print(f\"\\nTraining and Evaluating SVM using {representation_name} Features...\")\n",
    "\n",
    "    # Train-Test Split\n",
    "    X_train, X_test, y_train, y_test = train_test_split(\n",
    "        X, y, test_size=0.2, random_state=42\n",
    "    )\n",
    "\n",
    "    # Train the SVM Model\n",
    "    svm_model = SVC(kernel='linear', C=1, random_state=42)\n",
    "    svm_model.fit(X_train, y_train)\n",
    "\n",
    "    # Evaluate on Training Data\n",
    "    y_train_pred = svm_model.predict(X_train)\n",
    "    train_accuracy = accuracy_score(y_train, y_train_pred)\n",
    "\n",
    "    # Evaluate on Testing Data\n",
    "    y_test_pred = svm_model.predict(X_test)\n",
    "    test_accuracy = accuracy_score(y_test, y_test_pred)\n",
    "    test_report = classification_report(y_test, y_test_pred, target_names=['Negative', 'Positive'])\n",
    "    test_conf_matrix = confusion_matrix(y_test, y_test_pred)\n",
    "\n",
    "    # Print Results\n",
    "    print(f\"Training Accuracy ({representation_name}): {train_accuracy}\")\n",
    "    print(f\"Testing Accuracy ({representation_name}): {test_accuracy}\")\n",
    "    print(\"\\nClassification Report:\\n\", test_report)\n",
    "\n",
    "    # Visualize Confusion Matrix\n",
    "    plt.figure(figsize=(8, 6))\n",
    "    sns.heatmap(test_conf_matrix, annot=True, fmt='d', cmap='Blues', xticklabels=['Negative', 'Positive'], yticklabels=['Negative', 'Positive'])\n",
    "    plt.title(f\"Confusion Matrix ({representation_name})\")\n",
    "    plt.xlabel(\"Predicted Labels\")\n",
    "    plt.ylabel(\"True Labels\")\n",
    "    plt.show()\n",
    "\n",
    "    return train_accuracy, test_accuracy, test_report\n"
   ]
  },
  {
   "cell_type": "markdown",
   "id": "1d5ac554",
   "metadata": {},
   "source": [
    "### Bag-of-Words Representation\n",
    "Train and evaluate the SVM model using Bag-of-Words features.\n"
   ]
  },
  {
   "cell_type": "code",
   "execution_count": 21,
   "id": "d52845e7",
   "metadata": {},
   "outputs": [
    {
     "name": "stdout",
     "output_type": "stream",
     "text": [
      "\n",
      "Training and Evaluating SVM using Bag-of-Words Features...\n",
      "Training Accuracy (Bag-of-Words): 0.8868\n",
      "Testing Accuracy (Bag-of-Words): 0.7564\n",
      "\n",
      "Classification Report:\n",
      "               precision    recall  f1-score   support\n",
      "\n",
      "    Negative       0.76      0.73      0.75      9903\n",
      "    Positive       0.75      0.78      0.76     10097\n",
      "\n",
      "    accuracy                           0.76     20000\n",
      "   macro avg       0.76      0.76      0.76     20000\n",
      "weighted avg       0.76      0.76      0.76     20000\n",
      "\n"
     ]
    },
    {
     "data": {
      "image/png": "[encoded data removed]",
      "text/plain": [
       "<Figure size 800x600 with 2 Axes>"
      ]
     },
     "metadata": {},
     "output_type": "display_data"
    }
   ],
   "source": [
    "bow_train_acc, bow_test_acc, bow_report = train_and_evaluate(\n",
    "    bow_features, \n",
    "    df_cleaned['numeric_sentiment'], \n",
    "    \"Bag-of-Words\"\n",
    ")"
   ]
  },
  {
   "cell_type": "markdown",
   "id": "f6b94032",
   "metadata": {},
   "source": [
    "### TF-IDF Representation\n",
    "Train and evaluate the SVM model using TF-IDF features.\n"
   ]
  },
  {
   "cell_type": "code",
   "execution_count": 22,
   "id": "1cd37ecd",
   "metadata": {},
   "outputs": [
    {
     "name": "stdout",
     "output_type": "stream",
     "text": [
      "\n",
      "Training and Evaluating SVM using TF-IDF Features...\n",
      "Training Accuracy (TF-IDF): 0.8529125\n",
      "Testing Accuracy (TF-IDF): 0.7655\n",
      "\n",
      "Classification Report:\n",
      "               precision    recall  f1-score   support\n",
      "\n",
      "    Negative       0.78      0.74      0.76      9903\n",
      "    Positive       0.76      0.79      0.77     10097\n",
      "\n",
      "    accuracy                           0.77     20000\n",
      "   macro avg       0.77      0.77      0.77     20000\n",
      "weighted avg       0.77      0.77      0.77     20000\n",
      "\n"
     ]
    },
    {
     "data": {
      "image/png": "[encoded data removed]",
      "text/plain": [
       "<Figure size 800x600 with 2 Axes>"
      ]
     },
     "metadata": {},
     "output_type": "display_data"
    }
   ],
   "source": [
    "tfidf_train_acc, tfidf_test_acc, tfidf_report = train_and_evaluate(\n",
    "    tfidf_features, \n",
    "    df_cleaned['numeric_sentiment'], \n",
    "    \"TF-IDF\"\n",
    ")"
   ]
  },
  {
   "cell_type": "markdown",
   "id": "5a65be7d",
   "metadata": {},
   "source": [
    "### BERT Embeddings\n",
    "Train and evaluate the SVM model using BERT embeddings.\n"
   ]
  },
  {
   "cell_type": "code",
   "execution_count": 23,
   "id": "f93e8edc",
   "metadata": {},
   "outputs": [
    {
     "name": "stdout",
     "output_type": "stream",
     "text": [
      "\n",
      "Training and Evaluating SVM using BERT Embeddings Features...\n",
      "Training Accuracy (BERT Embeddings): 0.744925\n",
      "Testing Accuracy (BERT Embeddings): 0.73685\n",
      "\n",
      "Classification Report:\n",
      "               precision    recall  f1-score   support\n",
      "\n",
      "    Negative       0.74      0.73      0.73      9903\n",
      "    Positive       0.74      0.74      0.74     10097\n",
      "\n",
      "    accuracy                           0.74     20000\n",
      "   macro avg       0.74      0.74      0.74     20000\n",
      "weighted avg       0.74      0.74      0.74     20000\n",
      "\n"
     ]
    },
    {
     "data": {
      "image/png": "[encoded data removed]",
      "text/plain": [
       "<Figure size 800x600 with 2 Axes>"
      ]
     },
     "metadata": {},
     "output_type": "display_data"
    }
   ],
   "source": [
    "bert_train_acc, bert_test_acc, bert_report = train_and_evaluate(\n",
    "    bert_features, \n",
    "    df_cleaned['numeric_sentiment'], \n",
    "    \"BERT Embeddings\"\n",
    ")"
   ]
  },
  {
   "cell_type": "markdown",
   "id": "7da2255e",
   "metadata": {},
   "source": [
    "## Comparison of Embedding Techniques\n",
    "Compare the training and testing accuracies for Bag-of-Words, TF-IDF, and BERT Embeddings.\n"
   ]
  },
  {
   "cell_type": "code",
   "execution_count": 24,
   "id": "26d3b86d",
   "metadata": {},
   "outputs": [
    {
     "data": {
      "image/png": "[encoded data removed]",
      "text/plain": [
       "<Figure size 1000x600 with 1 Axes>"
      ]
     },
     "metadata": {},
     "output_type": "display_data"
    },
    {
     "name": "stdout",
     "output_type": "stream",
     "text": [
      "\n",
      "Best Embedding Technique: TF-IDF with Test Accuracy: 0.7655\n"
     ]
    }
   ],
   "source": [
    "embedding_methods = ['Bag-of-Words', 'TF-IDF', 'BERT']\n",
    "train_accuracies = [bow_train_acc, tfidf_train_acc, bert_train_acc]\n",
    "test_accuracies = [bow_test_acc, tfidf_test_acc, bert_test_acc]\n",
    "\n",
    "# Visualize Accuracy Comparison\n",
    "plt.figure(figsize=(10, 6))\n",
    "plt.bar(embedding_methods, train_accuracies, alpha=0.7, label='Train Accuracy')\n",
    "plt.bar(embedding_methods, test_accuracies, alpha=0.7, label='Test Accuracy')\n",
    "plt.title(\"Comparison of Embedding Techniques\")\n",
    "plt.ylabel(\"Accuracy\")\n",
    "plt.legend()\n",
    "plt.show()\n",
    "\n",
    "# Identify Best Embedding Technique\n",
    "best_method = embedding_methods[test_accuracies.index(max(test_accuracies))]\n",
    "print(f\"\\nBest Embedding Technique: {best_method} with Test Accuracy: {max(test_accuracies)}\")\n"
   ]
  },
  {
   "cell_type": "markdown",
   "id": "aeb98eee",
   "metadata": {},
   "source": [
    "## **Conclusion**\n",
    "\n",
    "After evaluating the performance of three different embedding techniques (Bag-of-Words, TF-IDF, and BERT Embeddings) using SVM as the classification model, the following conclusions were drawn:\n",
    "\n",
    "### **1. Performance Overview**\n",
    "- **Accuracy:**\n",
    "    - TF-IDF achieved the highest accuracy of **76.55%**, outperforming both Bag-of-Words (75.64%) and BERT Embeddings (73.69%).\n",
    "- **Overall F1-Score:**\n",
    "    - TF-IDF also showed the best overall F1-Score of **0.77**, followed by Bag-of-Words at 0.76 and BERT Embeddings at 0.74.\n",
    "- **Class-Level Performance:**\n",
    "    - TF-IDF demonstrated a balanced performance between \"Negative\" and \"Positive\" classes, with slightly higher precision and recall compared to the other techniques.\n",
    "\n",
    "### **2. Strengths and Weaknesses of Embedding Techniques**\n",
    "#### **Bag-of-Words:**\n",
    "- **Strengths:**\n",
    "    - Simple and computationally inexpensive.\n",
    "    - Performs reasonably well with a linear SVM.\n",
    "- **Weaknesses:**\n",
    "    - High-dimensional feature space (59,607 features), which increases sparsity.\n",
    "    - Ignores semantic relationships between words, which might limit its performance on nuanced data.\n",
    "\n",
    "#### **TF-IDF:**\n",
    "- **Strengths:**\n",
    "    - Captures the importance of words relative to the entire dataset, thus providing better feature representation than Bag-of-Words.\n",
    "    - Achieved the best performance across all metrics, indicating its suitability for this specific sentiment classification task.\n",
    "- **Weaknesses:**\n",
    "    - Still a high-dimensional representation with some sparsity.\n",
    "    - Does not consider word order or context.\n",
    "\n",
    "#### **BERT Embeddings:**\n",
    "- **Strengths:**\n",
    "    - Captures deep contextual relationships between words, making it highly suitable for nuanced and complex text data.\n",
    "    - Low-dimensional feature space (768 features), reducing sparsity and improving interpretability.\n",
    "- **Weaknesses:**\n",
    "    - Computationally expensive, leading to significantly longer training and evaluation times.\n",
    "    - Underperformed compared to simpler techniques like TF-IDF in this task, possibly due to overfitting or insufficient fine-tuning.\n",
    "\n",
    "### **3. Factors Influencing Performance**\n",
    "- **Dataset Size:** While the dataset was large (100,000 samples), simpler techniques like Bag-of-Words and TF-IDF leveraged the data more effectively for linear classification.\n",
    "- **Model Complexity:** BERT Embeddings might require deeper models or additional fine-tuning to fully realize its potential on this dataset.\n",
    "- **Feature Representations:** Simpler representations like TF-IDF worked better with SVM due to their compatibility with linear decision boundaries, whereas BERT's embeddings might perform better with deep learning models.\n",
    "\n",
    "### **4. Best Embedding Technique**\n",
    "- **TF-IDF is the recommended embedding technique for this dataset and task.**\n",
    "    - It provides the best balance between performance and computational efficiency.\n",
    "    - Its interpretability and ease of implementation make it a strong choice for this sentiment classification problem.\n",
    "\n",
    "### **Conclusion Summary:**\n",
    "TF-IDF emerged as the most effective embedding technique for the current dataset and SVM model, balancing high accuracy, strong F1-scores, and computational efficiency. While BERT embeddings offer promising features, they require further optimization and more advanced models to outperform simpler methods in this task.\n"
   ]
  },
  {
   "cell_type": "markdown",
   "id": "31eb74c5",
   "metadata": {},
   "source": [
    "## **Future Work**\n",
    "\n",
    "While the project achieved its primary goals, several opportunities for future improvements and extensions were identified:\n",
    "\n",
    "1. **Exploring Advanced Deep Learning Models**:\n",
    "   - Implementing transformer-based architectures like **RoBERTa** or **XLNet** for enhanced contextual understanding.\n",
    "   - Exploring hybrid approaches that combine traditional machine learning with deep learning embeddings.\n",
    "\n",
    "2. **Dataset Expansion**:\n",
    "   - Incorporating additional datasets to generalize the model for real-world applications.\n",
    "   - Handling multilingual datasets for broader applicability.\n",
    "\n",
    "3. **Real-Time Sentiment Analysis**:\n",
    "   - Deploying the model as a web service or integrating it with social media platforms for real-time sentiment monitoring.\n",
    "\n",
    "4. **Hyperparameter Optimization**:\n",
    "   - Performing exhaustive grid search or Bayesian optimization for fine-tuning hyperparameters of models like SVM, Random Forest, and BERT.\n",
    "\n",
    "5. **Handling Imbalanced Data**:\n",
    "   - Experimenting with techniques such as SMOTE or weighted loss functions for imbalanced datasets.\n",
    "\n",
    "6. **Visualization Enhancements**:\n",
    "   - Using advanced visualization techniques like **SHAP** values or LIME to interpret model predictions and understand feature importance.\n",
    "\n",
    "By addressing these areas, the project could be extended into a more robust and versatile system capable of handling diverse and complex sentiment analysis tasks."
   ]
  },
  {
   "cell_type": "markdown",
   "id": "4130e107",
   "metadata": {},
   "source": []
  }
 ],
 "metadata": {
  "kernelspec": {
   "display_name": "venv",
   "language": "python",
   "name": "python3"
  },
  "language_info": {
   "codemirror_mode": {
    "name": "ipython",
    "version": 3
   },
   "file_extension": ".py",
   "mimetype": "text/x-python",
   "name": "python",
   "nbconvert_exporter": "python",
   "pygments_lexer": "ipython3",
   "version": "3.11.9"
  }
 },
 "nbformat": 4,
 "nbformat_minor": 5
}
